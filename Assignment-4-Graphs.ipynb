{
 "cells": [
  {
   "cell_type": "markdown",
   "id": "5aa932c4",
   "metadata": {},
   "source": [
    "### 1.Breadth First Traversal for a Graph"
   ]
  },
  {
   "cell_type": "code",
   "execution_count": 1,
   "id": "21a88d11",
   "metadata": {},
   "outputs": [
    {
     "name": "stdout",
     "output_type": "stream",
     "text": [
      "Breadth-First Traversal (starting from vertex 2):\n",
      "2 0 3 1 "
     ]
    }
   ],
   "source": [
    "from collections import defaultdict, deque\n",
    "\n",
    "class Graph:\n",
    "    def __init__(self):\n",
    "        self.graph = defaultdict(list)\n",
    "\n",
    "    def add_edge(self, u, v):\n",
    "        self.graph[u].append(v)\n",
    "\n",
    "    def bfs(self, start_vertex):\n",
    "        visited = set()\n",
    "        queue = deque()\n",
    "\n",
    "        queue.append(start_vertex)\n",
    "        visited.add(start_vertex)\n",
    "\n",
    "        while queue:\n",
    "            current_vertex = queue.popleft()\n",
    "            print(current_vertex, end=\" \")\n",
    "\n",
    "            for neighbor in self.graph[current_vertex]:\n",
    "                if neighbor not in visited:\n",
    "                    queue.append(neighbor)\n",
    "                    visited.add(neighbor)\n",
    "\n",
    "# Example:\n",
    "g = Graph()\n",
    "g.add_edge(0, 1)\n",
    "g.add_edge(0, 2)\n",
    "g.add_edge(1, 2)\n",
    "g.add_edge(2, 0)\n",
    "g.add_edge(2, 3)\n",
    "g.add_edge(3, 3)\n",
    "\n",
    "print(\"Breadth-First Traversal (starting from vertex 2):\")\n",
    "g.bfs(2)\n"
   ]
  },
  {
   "cell_type": "markdown",
   "id": "6273af33",
   "metadata": {},
   "source": [
    "### 2.Depth First Traversal for a Graph"
   ]
  },
  {
   "cell_type": "code",
   "execution_count": 2,
   "id": "80df06e7",
   "metadata": {},
   "outputs": [
    {
     "name": "stdout",
     "output_type": "stream",
     "text": [
      "Depth-First Traversal (starting from vertex 2):\n",
      "2 3 0 1 "
     ]
    }
   ],
   "source": [
    "from collections import defaultdict\n",
    "\n",
    "class Graph:\n",
    "    def __init__(self):\n",
    "        self.graph = defaultdict(list)\n",
    "\n",
    "    def add_edge(self, u, v):\n",
    "        self.graph[u].append(v)\n",
    "\n",
    "    def dfs(self, start_vertex):\n",
    "        visited = set()\n",
    "        stack = []\n",
    "\n",
    "        stack.append(start_vertex)\n",
    "        visited.add(start_vertex)\n",
    "\n",
    "        while stack:\n",
    "            current_vertex = stack.pop()\n",
    "            print(current_vertex, end=\" \")\n",
    "\n",
    "            for neighbor in self.graph[current_vertex]:\n",
    "                if neighbor not in visited:\n",
    "                    stack.append(neighbor)\n",
    "                    visited.add(neighbor)\n",
    "\n",
    "# Example:\n",
    "g = Graph()\n",
    "g.add_edge(0, 1)\n",
    "g.add_edge(0, 2)\n",
    "g.add_edge(1, 2)\n",
    "g.add_edge(2, 0)\n",
    "g.add_edge(2, 3)\n",
    "g.add_edge(3, 3)\n",
    "\n",
    "print(\"Depth-First Traversal (starting from vertex 2):\")\n",
    "g.dfs(2)\n"
   ]
  },
  {
   "cell_type": "markdown",
   "id": "326ebdf4",
   "metadata": {},
   "source": [
    "### 3.Count the number of nodes at given level in a tree using BFS"
   ]
  },
  {
   "cell_type": "code",
   "execution_count": 3,
   "id": "28cd9702",
   "metadata": {},
   "outputs": [
    {
     "name": "stdout",
     "output_type": "stream",
     "text": [
      "Number of nodes at level 2: 4\n"
     ]
    }
   ],
   "source": [
    "from collections import defaultdict, deque\n",
    "\n",
    "class TreeNode:\n",
    "    def __init__(self, value):\n",
    "        self.value = value\n",
    "        self.children = []\n",
    "\n",
    "def count_nodes_at_level(root, target_level):\n",
    "    if not root:\n",
    "        return 0\n",
    "\n",
    "    queue = deque([(root, 0)])\n",
    "    level_count = 0\n",
    "\n",
    "    while queue:\n",
    "        node, level = queue.popleft()\n",
    "\n",
    "        if level == target_level:\n",
    "            level_count += 1\n",
    "\n",
    "        for child in node.children:\n",
    "            queue.append((child, level + 1))\n",
    "\n",
    "    return level_count\n",
    "\n",
    "# Example usage:\n",
    "root = TreeNode(1)\n",
    "root.children = [TreeNode(2), TreeNode(3)]\n",
    "root.children[0].children = [TreeNode(4), TreeNode(5)]\n",
    "root.children[1].children = [TreeNode(6), TreeNode(7)]\n",
    "\n",
    "target_level = 2 \n",
    "\n",
    "nodes_at_level = count_nodes_at_level(root, target_level)\n",
    "print(f\"Number of nodes at level {target_level}: {nodes_at_level}\")\n"
   ]
  },
  {
   "cell_type": "markdown",
   "id": "977b070a",
   "metadata": {},
   "source": [
    "### 4.Count number of trees in a forest"
   ]
  },
  {
   "cell_type": "code",
   "execution_count": 4,
   "id": "8414e571",
   "metadata": {},
   "outputs": [
    {
     "name": "stdout",
     "output_type": "stream",
     "text": [
      "Number of trees in the forest: 2\n"
     ]
    }
   ],
   "source": [
    "from collections import defaultdict\n",
    "\n",
    "class Graph:\n",
    "    def __init__(self):\n",
    "        self.graph = defaultdict(list)\n",
    "\n",
    "    def add_edge(self, u, v):\n",
    "        self.graph[u].append(v)\n",
    "        self.graph[v].append(u) \n",
    "        \n",
    "    def count_trees_in_forest(self):\n",
    "        def dfs(node, visited):\n",
    "            visited.add(node)\n",
    "            for neighbor in self.graph[node]:\n",
    "                if neighbor not in visited:\n",
    "                    dfs(neighbor, visited)\n",
    "\n",
    "        visited = set()\n",
    "        num_trees = 0\n",
    "\n",
    "        for node in self.graph:\n",
    "            if node not in visited:\n",
    "                dfs(node, visited)\n",
    "                num_trees += 1\n",
    "\n",
    "        return num_trees\n",
    "\n",
    "# Example:\n",
    "g = Graph()\n",
    "g.add_edge(0, 1)\n",
    "g.add_edge(0, 2)\n",
    "g.add_edge(3, 4)\n",
    "\n",
    "num_trees = g.count_trees_in_forest()\n",
    "print(f\"Number of trees in the forest: {num_trees}\")\n"
   ]
  },
  {
   "cell_type": "markdown",
   "id": "ae1642ac",
   "metadata": {},
   "source": [
    "### 5.Detect Cycle in a Directed Graph"
   ]
  },
  {
   "cell_type": "code",
   "execution_count": 5,
   "id": "b7fba65e",
   "metadata": {},
   "outputs": [
    {
     "name": "stdout",
     "output_type": "stream",
     "text": [
      "The directed graph contains a cycle.\n"
     ]
    }
   ],
   "source": [
    "from collections import defaultdict\n",
    "\n",
    "class Graph:\n",
    "    def __init__(self):\n",
    "        self.graph = defaultdict(list)\n",
    "\n",
    "    def add_edge(self, u, v):\n",
    "        self.graph[u].append(v)\n",
    "\n",
    "    def is_cyclic(self):\n",
    "        def dfs(node, visited, stack):\n",
    "            visited[node] = True\n",
    "            stack[node] = True\n",
    "\n",
    "            for neighbor in self.graph[node]:\n",
    "                if not visited[neighbor]:\n",
    "                    if dfs(neighbor, visited, stack):\n",
    "                        return True\n",
    "                elif stack[neighbor]:\n",
    "                    return True\n",
    "\n",
    "            stack[node] = False\n",
    "            return False\n",
    "\n",
    "        visited = [False] * len(self.graph)\n",
    "        stack = [False] * len(self.graph)\n",
    "\n",
    "        for node in self.graph:\n",
    "            if not visited[node]:\n",
    "                if dfs(node, visited, stack):\n",
    "                    return True\n",
    "\n",
    "        return False\n",
    "\n",
    "# Example:\n",
    "g = Graph()\n",
    "g.add_edge(0, 1)\n",
    "g.add_edge(0, 2)\n",
    "g.add_edge(1, 2)\n",
    "g.add_edge(2, 0)\n",
    "g.add_edge(2, 3)\n",
    "g.add_edge(3, 3)\n",
    "\n",
    "if g.is_cyclic():\n",
    "    print(\"The directed graph contains a cycle.\")\n",
    "else:\n",
    "    print(\"The directed graph does not contain a cycle.\")\n"
   ]
  }
 ],
 "metadata": {
  "kernelspec": {
   "display_name": "Python 3 (ipykernel)",
   "language": "python",
   "name": "python3"
  },
  "language_info": {
   "codemirror_mode": {
    "name": "ipython",
    "version": 3
   },
   "file_extension": ".py",
   "mimetype": "text/x-python",
   "name": "python",
   "nbconvert_exporter": "python",
   "pygments_lexer": "ipython3",
   "version": "3.10.9"
  }
 },
 "nbformat": 4,
 "nbformat_minor": 5
}
